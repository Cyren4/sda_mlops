{
 "cells": [
  {
   "cell_type": "code",
   "execution_count": 9,
   "metadata": {},
   "outputs": [],
   "source": [
    "import pandas as pd\n",
    "import mlflow\n",
    "import mlflow\n",
    "import pandas as pd\n",
    "from sklearn.ensemble import RandomForestClassifier\n",
    "from sklearn.metrics import accuracy_score, classification_report\n",
    "from sklearn.model_selection import train_test_split\n",
    "\n",
    "mlflow.end_run()  \n"
   ]
  },
  {
   "cell_type": "code",
   "execution_count": 10,
   "metadata": {},
   "outputs": [],
   "source": [
    "# Démarrer un nouvel experiment\n",
    "mlflow.start_run()\n",
    "\n",
    "# Charger les données\n",
    "file_path = \"../data/Loan_Data.csv\"\n",
    "df = pd.read_csv(file_path)"
   ]
  },
  {
   "cell_type": "code",
   "execution_count": 11,
   "metadata": {},
   "outputs": [
    {
     "name": "stderr",
     "output_type": "stream",
     "text": [
      "\u001b[31m2025/03/20 20:52:50 WARNING mlflow.models.model: Model logged without a signature and input example. Please set `input_example` parameter when logging the model to auto infer the model signature.\u001b[0m\n"
     ]
    },
    {
     "name": "stdout",
     "output_type": "stream",
     "text": [
      "Modèle entraîné et suivi avec MLflow !\n"
     ]
    }
   ],
   "source": [
    "# Charger les données et séparer les features et la cible\n",
    "X = df.drop(columns=['customer_id', 'default'])  # Exclure l'ID client et la cible\n",
    "y = df['default']\n",
    "\n",
    "# Séparation des données en train/test\n",
    "from sklearn.model_selection import train_test_split\n",
    "X_train, X_test, y_train, y_test = train_test_split(X, y, test_size=0.2, random_state=42, stratify=y)\n",
    "\n",
    "# Initialisation du modèle Random Forest\n",
    "rf = RandomForestClassifier(n_estimators=100, random_state=42)\n",
    "\n",
    "# Entraînement du modèle\n",
    "rf.fit(X_train, y_train)\n",
    "\n",
    "# Prédictions\n",
    "y_pred = rf.predict(X_test)\n",
    "\n",
    "# Calcul des métriques de performance\n",
    "accuracy = accuracy_score(y_test, y_pred)\n",
    "report = classification_report(y_test, y_pred)\n",
    "\n",
    "# Log des résultats dans MLflow\n",
    "mlflow.log_param(\"model_type\", \"RandomForest\")\n",
    "mlflow.log_metric(\"accuracy\", accuracy)\n",
    "mlflow.log_text(report, \"classification_report.txt\")\n",
    "\n",
    "# Sauvegarder le modèle avec MLflow\n",
    "mlflow.sklearn.log_model(rf, \"random_forest_model\")\n",
    "\n",
    "# Fin de l'exécution\n",
    "mlflow.end_run()\n",
    "\n",
    "print(\"finish\")"
   ]
  }
 ],
 "metadata": {
  "kernelspec": {
   "display_name": "lstm_mlflow",
   "language": "python",
   "name": "python3"
  },
  "language_info": {
   "codemirror_mode": {
    "name": "ipython",
    "version": 3
   },
   "file_extension": ".py",
   "mimetype": "text/x-python",
   "name": "python",
   "nbconvert_exporter": "python",
   "pygments_lexer": "ipython3",
   "version": "3.13.2"
  }
 },
 "nbformat": 4,
 "nbformat_minor": 2
}
