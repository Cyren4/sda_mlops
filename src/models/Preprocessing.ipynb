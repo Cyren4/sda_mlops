{
 "cells": [
  {
   "cell_type": "code",
   "execution_count": 6,
   "metadata": {},
   "outputs": [
    {
     "ename": "AttributeError",
     "evalue": "module 'pyarrow' has no attribute '__version__'",
     "output_type": "error",
     "traceback": [
      "\u001b[0;31m---------------------------------------------------------------------------\u001b[0m",
      "\u001b[0;31mAttributeError\u001b[0m                            Traceback (most recent call last)",
      "Cell \u001b[0;32mIn[6], line 1\u001b[0m\n\u001b[0;32m----> 1\u001b[0m \u001b[38;5;28;01mimport\u001b[39;00m\u001b[38;5;250m \u001b[39m\u001b[38;5;21;01mpandas\u001b[39;00m\u001b[38;5;250m \u001b[39m\u001b[38;5;28;01mas\u001b[39;00m\u001b[38;5;250m \u001b[39m\u001b[38;5;21;01mpd\u001b[39;00m\n\u001b[1;32m      2\u001b[0m \u001b[38;5;28;01mimport\u001b[39;00m\u001b[38;5;250m \u001b[39m\u001b[38;5;21;01mnumpy\u001b[39;00m\u001b[38;5;250m \u001b[39m\u001b[38;5;28;01mas\u001b[39;00m\u001b[38;5;250m \u001b[39m\u001b[38;5;21;01mnp\u001b[39;00m\n\u001b[1;32m      3\u001b[0m \u001b[38;5;28;01mimport\u001b[39;00m\u001b[38;5;250m \u001b[39m\u001b[38;5;21;01mseaborn\u001b[39;00m\u001b[38;5;250m \u001b[39m\u001b[38;5;28;01mas\u001b[39;00m\u001b[38;5;250m \u001b[39m\u001b[38;5;21;01msns\u001b[39;00m\n",
      "File \u001b[0;32m/opt/anaconda3/lib/python3.12/site-packages/pandas/__init__.py:26\u001b[0m\n\u001b[1;32m     22\u001b[0m \u001b[38;5;28;01mdel\u001b[39;00m _hard_dependencies, _dependency, _missing_dependencies\n\u001b[1;32m     24\u001b[0m \u001b[38;5;28;01mtry\u001b[39;00m:\n\u001b[1;32m     25\u001b[0m     \u001b[38;5;66;03m# numpy compat\u001b[39;00m\n\u001b[0;32m---> 26\u001b[0m     \u001b[38;5;28;01mfrom\u001b[39;00m\u001b[38;5;250m \u001b[39m\u001b[38;5;21;01mpandas\u001b[39;00m\u001b[38;5;21;01m.\u001b[39;00m\u001b[38;5;21;01mcompat\u001b[39;00m\u001b[38;5;250m \u001b[39m\u001b[38;5;28;01mimport\u001b[39;00m (\n\u001b[1;32m     27\u001b[0m         is_numpy_dev \u001b[38;5;28;01mas\u001b[39;00m _is_numpy_dev,  \u001b[38;5;66;03m# pyright: ignore[reportUnusedImport] # noqa: F401\u001b[39;00m\n\u001b[1;32m     28\u001b[0m     )\n\u001b[1;32m     29\u001b[0m \u001b[38;5;28;01mexcept\u001b[39;00m \u001b[38;5;167;01mImportError\u001b[39;00m \u001b[38;5;28;01mas\u001b[39;00m _err:  \u001b[38;5;66;03m# pragma: no cover\u001b[39;00m\n\u001b[1;32m     30\u001b[0m     _module \u001b[38;5;241m=\u001b[39m _err\u001b[38;5;241m.\u001b[39mname\n",
      "File \u001b[0;32m/opt/anaconda3/lib/python3.12/site-packages/pandas/compat/__init__.py:27\u001b[0m\n\u001b[1;32m     25\u001b[0m \u001b[38;5;28;01mimport\u001b[39;00m\u001b[38;5;250m \u001b[39m\u001b[38;5;21;01mpandas\u001b[39;00m\u001b[38;5;21;01m.\u001b[39;00m\u001b[38;5;21;01mcompat\u001b[39;00m\u001b[38;5;21;01m.\u001b[39;00m\u001b[38;5;21;01mcompressors\u001b[39;00m\n\u001b[1;32m     26\u001b[0m \u001b[38;5;28;01mfrom\u001b[39;00m\u001b[38;5;250m \u001b[39m\u001b[38;5;21;01mpandas\u001b[39;00m\u001b[38;5;21;01m.\u001b[39;00m\u001b[38;5;21;01mcompat\u001b[39;00m\u001b[38;5;21;01m.\u001b[39;00m\u001b[38;5;21;01mnumpy\u001b[39;00m\u001b[38;5;250m \u001b[39m\u001b[38;5;28;01mimport\u001b[39;00m is_numpy_dev\n\u001b[0;32m---> 27\u001b[0m \u001b[38;5;28;01mfrom\u001b[39;00m\u001b[38;5;250m \u001b[39m\u001b[38;5;21;01mpandas\u001b[39;00m\u001b[38;5;21;01m.\u001b[39;00m\u001b[38;5;21;01mcompat\u001b[39;00m\u001b[38;5;21;01m.\u001b[39;00m\u001b[38;5;21;01mpyarrow\u001b[39;00m\u001b[38;5;250m \u001b[39m\u001b[38;5;28;01mimport\u001b[39;00m (\n\u001b[1;32m     28\u001b[0m     pa_version_under10p1,\n\u001b[1;32m     29\u001b[0m     pa_version_under11p0,\n\u001b[1;32m     30\u001b[0m     pa_version_under13p0,\n\u001b[1;32m     31\u001b[0m     pa_version_under14p0,\n\u001b[1;32m     32\u001b[0m     pa_version_under14p1,\n\u001b[1;32m     33\u001b[0m     pa_version_under16p0,\n\u001b[1;32m     34\u001b[0m     pa_version_under17p0,\n\u001b[1;32m     35\u001b[0m )\n\u001b[1;32m     37\u001b[0m \u001b[38;5;28;01mif\u001b[39;00m TYPE_CHECKING:\n\u001b[1;32m     38\u001b[0m     \u001b[38;5;28;01mfrom\u001b[39;00m\u001b[38;5;250m \u001b[39m\u001b[38;5;21;01mpandas\u001b[39;00m\u001b[38;5;21;01m.\u001b[39;00m\u001b[38;5;21;01m_typing\u001b[39;00m\u001b[38;5;250m \u001b[39m\u001b[38;5;28;01mimport\u001b[39;00m F\n",
      "File \u001b[0;32m/opt/anaconda3/lib/python3.12/site-packages/pandas/compat/pyarrow.py:10\u001b[0m\n\u001b[1;32m      7\u001b[0m \u001b[38;5;28;01mtry\u001b[39;00m:\n\u001b[1;32m      8\u001b[0m     \u001b[38;5;28;01mimport\u001b[39;00m\u001b[38;5;250m \u001b[39m\u001b[38;5;21;01mpyarrow\u001b[39;00m\u001b[38;5;250m \u001b[39m\u001b[38;5;28;01mas\u001b[39;00m\u001b[38;5;250m \u001b[39m\u001b[38;5;21;01mpa\u001b[39;00m\n\u001b[0;32m---> 10\u001b[0m     _palv \u001b[38;5;241m=\u001b[39m Version(Version(pa\u001b[38;5;241m.\u001b[39m__version__)\u001b[38;5;241m.\u001b[39mbase_version)\n\u001b[1;32m     11\u001b[0m     pa_version_under10p1 \u001b[38;5;241m=\u001b[39m _palv \u001b[38;5;241m<\u001b[39m Version(\u001b[38;5;124m\"\u001b[39m\u001b[38;5;124m10.0.1\u001b[39m\u001b[38;5;124m\"\u001b[39m)\n\u001b[1;32m     12\u001b[0m     pa_version_under11p0 \u001b[38;5;241m=\u001b[39m _palv \u001b[38;5;241m<\u001b[39m Version(\u001b[38;5;124m\"\u001b[39m\u001b[38;5;124m11.0.0\u001b[39m\u001b[38;5;124m\"\u001b[39m)\n",
      "\u001b[0;31mAttributeError\u001b[0m: module 'pyarrow' has no attribute '__version__'"
     ]
    }
   ],
   "source": [
    "import pandas as pd\n",
    "import numpy as np\n",
    "import seaborn as sns\n",
    "import matplotlib.pyplot as plt\n",
    "from sklearn.model_selection import train_test_split\n",
    "from sklearn.preprocessing import StandardScaler\n",
    "import pandas as pd\n",
    "from sklearn.model_selection import train_test_split\n",
    "from sklearn.preprocessing import StandardScaler\n",
    "\n",
    "\n",
    "# Charger les données\n",
    "file_path = \"/Users/yoavcohen/Desktop/sda_mlops/data/Loan_Data.csv\"\n",
    "df = pd.read_csv(file_path)\n"
   ]
  },
  {
   "cell_type": "code",
   "execution_count": 21,
   "metadata": {},
   "outputs": [
    {
     "name": "stdout",
     "output_type": "stream",
     "text": [
      "Aperçu des données :\n",
      "    customer_id  credit_lines_outstanding  loan_amt_outstanding  \\\n",
      "0      8153374                         0           5221.545193   \n",
      "1      7442532                         5           1958.928726   \n",
      "2      2256073                         0           3363.009259   \n",
      "3      4885975                         0           4766.648001   \n",
      "4      4700614                         1           1345.827718   \n",
      "\n",
      "   total_debt_outstanding       income  years_employed  fico_score  default  \n",
      "0             3915.471226  78039.38546               5         605        0  \n",
      "1             8228.752520  26648.43525               2         572        1  \n",
      "2             2027.830850  65866.71246               4         602        0  \n",
      "3             2501.730397  74356.88347               5         612        0  \n",
      "4             1768.826187  23448.32631               6         631        0  \n",
      "\n",
      "Informations sur les données :\n",
      "\n",
      "<class 'pandas.core.frame.DataFrame'>\n",
      "RangeIndex: 10000 entries, 0 to 9999\n",
      "Data columns (total 8 columns):\n",
      " #   Column                    Non-Null Count  Dtype  \n",
      "---  ------                    --------------  -----  \n",
      " 0   customer_id               10000 non-null  int64  \n",
      " 1   credit_lines_outstanding  10000 non-null  int64  \n",
      " 2   loan_amt_outstanding      10000 non-null  float64\n",
      " 3   total_debt_outstanding    10000 non-null  float64\n",
      " 4   income                    10000 non-null  float64\n",
      " 5   years_employed            10000 non-null  int64  \n",
      " 6   fico_score                10000 non-null  int64  \n",
      " 7   default                   10000 non-null  int64  \n",
      "dtypes: float64(3), int64(5)\n",
      "memory usage: 625.1 KB\n",
      "\n",
      "Statistiques descriptives :\n",
      "         customer_id  credit_lines_outstanding  loan_amt_outstanding  \\\n",
      "count  1.000000e+04              10000.000000          10000.000000   \n",
      "mean   4.974577e+06                  1.461200           4159.677034   \n",
      "std    2.293890e+06                  1.743846           1421.399078   \n",
      "min    1.000324e+06                  0.000000             46.783973   \n",
      "25%    2.977661e+06                  0.000000           3154.235371   \n",
      "50%    4.989502e+06                  1.000000           4052.377228   \n",
      "75%    6.967210e+06                  2.000000           5052.898103   \n",
      "max    8.999789e+06                  5.000000          10750.677810   \n",
      "\n",
      "       total_debt_outstanding         income  years_employed    fico_score  \\\n",
      "count            10000.000000   10000.000000    10000.000000  10000.000000   \n",
      "mean              8718.916797   70039.901401        4.552800    637.557700   \n",
      "std               6627.164762   20072.214143        1.566862     60.657906   \n",
      "min                 31.652732    1000.000000        0.000000    408.000000   \n",
      "25%               4199.836020   56539.867903        3.000000    597.000000   \n",
      "50%               6732.407217   70085.826330        5.000000    638.000000   \n",
      "75%              11272.263740   83429.166133        6.000000    679.000000   \n",
      "max              43688.784100  148412.180500       10.000000    850.000000   \n",
      "\n",
      "            default  \n",
      "count  10000.000000  \n",
      "mean       0.185100  \n",
      "std        0.388398  \n",
      "min        0.000000  \n",
      "25%        0.000000  \n",
      "50%        0.000000  \n",
      "75%        0.000000  \n",
      "max        1.000000  \n"
     ]
    }
   ],
   "source": [
    "\n",
    "# Afficher un aperçu des données\n",
    "print(\"Aperçu des données :\\n\", df.head())\n",
    "print(\"\\nInformations sur les données :\\n\")\n",
    "df.info()\n",
    "print(\"\\nStatistiques descriptives :\\n\", df.describe())\n",
    "\n"
   ]
  },
  {
   "cell_type": "code",
   "execution_count": 22,
   "metadata": {},
   "outputs": [
    {
     "name": "stdout",
     "output_type": "stream",
     "text": [
      "\n",
      "Valeurs manquantes par colonne :\n",
      " customer_id                 0\n",
      "credit_lines_outstanding    0\n",
      "loan_amt_outstanding        0\n",
      "total_debt_outstanding      0\n",
      "income                      0\n",
      "years_employed              0\n",
      "fico_score                  0\n",
      "default                     0\n",
      "dtype: int64\n"
     ]
    },
    {
     "data": {
      "image/png": "[encoded data removed]",
      "text/plain": [
       "<Figure size 640x480 with 1 Axes>"
      ]
     },
     "metadata": {},
     "output_type": "display_data"
    }
   ],
   "source": [
    "# Vérifier les valeurs manquantes\n",
    "print(\"\\nValeurs manquantes par colonne :\\n\", df.isnull().sum())\n",
    "\n",
    "# Vérifier la distribution de la variable cible\n",
    "df['default'].value_counts().plot(kind='bar', title='Répartition de la variable cible')\n",
    "plt.show()\n"
   ]
  },
  {
   "cell_type": "code",
   "execution_count": 23,
   "metadata": {},
   "outputs": [],
   "source": [
    "# Création d'une nouvelle variable : ratio dette/revenu\n",
    "df['debt_to_income_ratio'] = df['total_debt_outstanding'] / df['income']"
   ]
  },
  {
   "cell_type": "code",
   "execution_count": 25,
   "metadata": {},
   "outputs": [
    {
     "data": {
      "text/plain": [
       "'/Users/yoavcohen/Desktop/sda_mlops/data/Loan_Data_Preprocessed.csv'"
      ]
     },
     "execution_count": 25,
     "metadata": {},
     "output_type": "execute_result"
    }
   ],
   "source": [
    "\n",
    "# Sauvegarder le fichier prétraité\n",
    "output_file_path = \"/Users/yoavcohen/Desktop/sda_mlops/data/Loan_Data_Preprocessed.csv\"\n",
    "\n",
    "# Sauvegarde du dataframe avec la nouvelle colonne 'debt_to_income_ratio' ajoutée\n",
    "df.to_csv(output_file_path, index=False)\n",
    "\n",
    "output_file_path\n"
   ]
  }
 ],
 "metadata": {
  "kernelspec": {
   "display_name": "base",
   "language": "python",
   "name": "python3"
  },
  "language_info": {
   "codemirror_mode": {
    "name": "ipython",
    "version": 3
   },
   "file_extension": ".py",
   "mimetype": "text/x-python",
   "name": "python",
   "nbconvert_exporter": "python",
   "pygments_lexer": "ipython3",
   "version": "3.12.2"
  }
 },
 "nbformat": 4,
 "nbformat_minor": 2
}
